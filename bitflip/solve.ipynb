{
 "cells": [
  {
   "cell_type": "code",
   "execution_count": null,
   "metadata": {},
   "outputs": [],
   "source": [
    "# Sageで実行\n",
    "\n",
    "from socket import *\n",
    "\n",
    "def short_pad_attack(c1, c2, e, n):\n",
    "    PRxy.<x,y> = PolynomialRing(Zmod(n))\n",
    "    PRx.<xn> = PolynomialRing(Zmod(n))\n",
    "    PRZZ.<xz,yz> = PolynomialRing(Zmod(n))\n",
    "    g1 = x^e - c1\n",
    "    g2 = (x+y)^e - c2\n",
    "    q1 = g1.change_ring(PRZZ)\n",
    "    q2 = g2.change_ring(PRZZ)\n",
    "    h = q2.resultant(q1)\n",
    "    h = h.univariate_polynomial()\n",
    "    h = h.change_ring(PRx).subs(y=xn)\n",
    "    h = h.monic()\n",
    "    kbits = n.nbits()//(2*e*e)\n",
    "    diff = h.small_roots(X=2^kbits, beta=0.5)[0]\n",
    "    return diff\n",
    "\n",
    "def related_message_attack(c1, c2, diff, e, n):\n",
    "    PRx.<x> = PolynomialRing(Zmod(n))\n",
    "    g1 = x^e - c1\n",
    "    g2 = (x+diff)^e - c2\n",
    "    def gcd(g1, g2):\n",
    "        while g2:\n",
    "            g1, g2 = g2, g1 % g2\n",
    "        return g1.monic()\n",
    "    return -gcd(g1, g2)[0]\n",
    "\n",
    "n = 82212154608576254900096226483113810717974464677637469172151624370076874445177909757467220517368961706061745548693538272183076941444005809369433342423449908965735182462388415108238954782902658438063972198394192220357503336925109727386083951661191494159560430569334665763264352163167121773914831172831824145331\n",
    "e = 3\n",
    "\n",
    "ls = []\n",
    "# 20回接続してCのリストを生成\n",
    "for i in range(20):   \n",
    "    s = socket(AF_INET, SOCK_STREAM)\n",
    "    s.connect((\"133.242.17.175\", 31337))\n",
    "    # Cは約309桁だが冗長性を持たせて400文字取得\n",
    "    a = s.recv(400)\n",
    "    # 最後の改行を取り除きint型に変換\n",
    "    a = int(a[:-1])\n",
    "    if a not in ls:\n",
    "        ls.append(a)\n",
    "\n",
    "for i in range(len(ls)-1):\n",
    "    for j in range(i+1, len(ls)):\n",
    "        c1 = ls[i]\n",
    "        c2 = ls[j]\n",
    "        # 例外処理\n",
    "        try:\n",
    "            diff = short_pad_attack(c1, c2, e, n)\n",
    "        except:\n",
    "            pass\n",
    "        else:\n",
    "            m1 = related_message_attack(c1, c2, diff, e, n)\n",
    "            print \"m1 = %d\" % m1\n",
    "            print \"m2 = %d\" % (m1 + diff)"
   ]
  },
  {
   "cell_type": "code",
   "execution_count": null,
   "metadata": {},
   "outputs": [],
   "source": [
    "# こちらはPython3\n",
    "\n",
    "from Crypto.Util.number import long_to_bytes\n",
    "\n",
    "m1 = 16260765149986038884145173876068642724013617302097779293079362876653494069932815072038851668676222848467504538570853507159925860036819304291732134150397319327193122637750054910716746167965635612837962028769149915298230040116567157454495798898178036434538204980608594381468821524975316356795783256330\n",
    "long_to_bytes(a)"
   ]
  }
 ],
 "metadata": {
  "kernelspec": {
   "display_name": "Python 3",
   "language": "python",
   "name": "python3"
  },
  "language_info": {
   "codemirror_mode": {
    "name": "ipython",
    "version": 3
   },
   "file_extension": ".py",
   "mimetype": "text/x-python",
   "name": "python",
   "nbconvert_exporter": "python",
   "pygments_lexer": "ipython3",
   "version": "3.7.3"
  }
 },
 "nbformat": 4,
 "nbformat_minor": 2
}
