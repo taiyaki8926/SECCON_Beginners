{
 "cells": [
  {
   "cell_type": "code",
   "execution_count": null,
   "metadata": {},
   "outputs": [],
   "source": [
    "import base64\n",
    "import zlib\n",
    "\n",
    "f = open('encrypted.txt', 'r')\n",
    "_str = f.read()\n",
    "# 何回繰り返すかは適宜調節. 正解は500\n",
    "for i in range(100):\n",
    "    # デコード. ここのPythonモジュールの存在だけ友達に教えてもらいました\n",
    "    _str = base64.b64decode(_str)\n",
    "    # 解凍\n",
    "    _str = zlib.decompress(_str)\n",
    "_str"
   ]
  }
 ],
 "metadata": {
  "kernelspec": {
   "display_name": "Python 3",
   "language": "python",
   "name": "python3"
  },
  "language_info": {
   "codemirror_mode": {
    "name": "ipython",
    "version": 3
   },
   "file_extension": ".py",
   "mimetype": "text/x-python",
   "name": "python",
   "nbconvert_exporter": "python",
   "pygments_lexer": "ipython3",
   "version": "3.7.3"
  }
 },
 "nbformat": 4,
 "nbformat_minor": 2
}
